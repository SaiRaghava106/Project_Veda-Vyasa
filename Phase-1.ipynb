{
 "cells": [
  {
   "cell_type": "markdown",
   "id": "47816964",
   "metadata": {},
   "source": [
    "# Importing libraries"
   ]
  },
  {
   "cell_type": "code",
   "execution_count": 1,
   "id": "6afdf233",
   "metadata": {},
   "outputs": [],
   "source": [
    "import spacy\n",
    "import csv\n",
    "import pandas as pd\n",
    "import matplotlib\n",
    "import numpy as np\n",
    "import re"
   ]
  },
  {
   "cell_type": "markdown",
   "id": "2d669cc2",
   "metadata": {},
   "source": [
    "# Data Collection"
   ]
  },
  {
   "cell_type": "markdown",
   "id": "edbf3bc1",
   "metadata": {},
   "source": [
    "### Sentence Segmentation"
   ]
  },
  {
   "cell_type": "code",
   "execution_count": 2,
   "id": "85146006",
   "metadata": {},
   "outputs": [],
   "source": [
    "#Load English Language Model\n",
    "nlp = spacy.load(\"en_core_web_sm\")"
   ]
  },
  {
   "cell_type": "code",
   "execution_count": 3,
   "id": "5694049a",
   "metadata": {},
   "outputs": [
    {
     "name": "stdout",
     "output_type": "stream",
     "text": [
      "Enter the path of your file\n"
     ]
    }
   ],
   "source": [
    "#Input path of the text file\n",
    "path=input('Enter the path of your file') or 'text.txt'"
   ]
  },
  {
   "cell_type": "code",
   "execution_count": 4,
   "id": "b4f9ac5d",
   "metadata": {},
   "outputs": [],
   "source": [
    "#Initializing arrays for data collection in csv file\n",
    "sentence=[]\n",
    "reqFormatList=[]"
   ]
  },
  {
   "cell_type": "code",
   "execution_count": 5,
   "id": "0ed450c4",
   "metadata": {},
   "outputs": [],
   "source": [
    "#Reading lines in the text file and storing them in lines\n",
    "with open(path,'r') as f:\n",
    "    lines = f.read()"
   ]
  },
  {
   "cell_type": "code",
   "execution_count": 6,
   "id": "74497a2d",
   "metadata": {},
   "outputs": [],
   "source": [
    "#Applying the Language model on the lines read from the text file\n",
    "doc=nlp(lines)"
   ]
  },
  {
   "cell_type": "code",
   "execution_count": 7,
   "id": "aee86aec",
   "metadata": {},
   "outputs": [],
   "source": [
    "#Performing Sentence Segmentation and storing the files in the array sentence\n",
    "for sent in doc.sents:\n",
    "    sentence.append(sent)"
   ]
  },
  {
   "cell_type": "markdown",
   "id": "3f689fa2",
   "metadata": {},
   "source": [
    "### Note:  Doc.sents is a generator\n",
    "A generator object can not produce output/segmented untill it is called. For example if there is a list object so you can iterate over it and print item one by one. Also you can print the output using indexing like list[0], list[1] etc without calling it explicitly means even without looping over it.\n",
    "But this is not the case with generator objects. So the Doc is not segmented until doc.sents is called. This means that, where you could print the second Doc token (word token) with print(doc[1]), you can't call the \"second Doc sentence\" with print(doc.sents[1]):"
   ]
  },
  {
   "cell_type": "code",
   "execution_count": 8,
   "id": "3a81d652",
   "metadata": {},
   "outputs": [],
   "source": [
    "#Storing each sentence as an array value in reqFormatList\n",
    "for i in sentence:\n",
    "    reqFormatList.append([i])"
   ]
  },
  {
   "cell_type": "code",
   "execution_count": 9,
   "id": "03b458f4",
   "metadata": {},
   "outputs": [
    {
     "name": "stdout",
     "output_type": "stream",
     "text": [
      "\n"
     ]
    }
   ],
   "source": [
    "#Add path to CSV file\n",
    "Path_to_CSV=input() or 'Data.csv'"
   ]
  },
  {
   "cell_type": "code",
   "execution_count": 10,
   "id": "dc6787f1",
   "metadata": {},
   "outputs": [],
   "source": [
    "#Storing each sentence in a cell in a csv file\n",
    "header=['Sentences']\n",
    "with open(Path_to_CSV,'w',newline='') as f:\n",
    "    writer=csv.writer(f,delimiter=',')\n",
    "    writer.writerow(header)\n",
    "    for s in reqFormatList:\n",
    "        writer.writerow(s)"
   ]
  },
  {
   "cell_type": "markdown",
   "id": "52bd9f27",
   "metadata": {},
   "source": [
    "### The data is now collected in a csv file and is now ready for basic pre-processing."
   ]
  },
  {
   "cell_type": "markdown",
   "id": "be694488",
   "metadata": {},
   "source": [
    "# Data Pre-Processing"
   ]
  },
  {
   "cell_type": "code",
   "execution_count": 11,
   "id": "6f9ecff2",
   "metadata": {},
   "outputs": [],
   "source": [
    "#The first step is importing the data as a CSV file\n",
    "df= pd.read_csv(Path_to_CSV)"
   ]
  },
  {
   "cell_type": "code",
   "execution_count": 12,
   "id": "7996b6ae",
   "metadata": {},
   "outputs": [
    {
     "data": {
      "text/html": [
       "<div>\n",
       "<style scoped>\n",
       "    .dataframe tbody tr th:only-of-type {\n",
       "        vertical-align: middle;\n",
       "    }\n",
       "\n",
       "    .dataframe tbody tr th {\n",
       "        vertical-align: top;\n",
       "    }\n",
       "\n",
       "    .dataframe thead th {\n",
       "        text-align: right;\n",
       "    }\n",
       "</style>\n",
       "<table border=\"1\" class=\"dataframe\">\n",
       "  <thead>\n",
       "    <tr style=\"text-align: right;\">\n",
       "      <th></th>\n",
       "      <th>Sentences</th>\n",
       "    </tr>\n",
       "  </thead>\n",
       "  <tbody>\n",
       "    <tr>\n",
       "      <th>0</th>\n",
       "      <td>Lightning lit up the purple sky of the mysteri...</td>\n",
       "    </tr>\n",
       "    <tr>\n",
       "      <th>1</th>\n",
       "      <td>The sky was a dark purple with grey clouds, bo...</td>\n",
       "    </tr>\n",
       "    <tr>\n",
       "      <th>2</th>\n",
       "      <td>The land was parched and cracking, without any...</td>\n",
       "    </tr>\n",
       "    <tr>\n",
       "      <th>3</th>\n",
       "      <td>They could barely see a single tree around them.</td>\n",
       "    </tr>\n",
       "    <tr>\n",
       "      <th>4</th>\n",
       "      <td>In the distance, the adventurers can see a pal...</td>\n",
       "    </tr>\n",
       "    <tr>\n",
       "      <th>5</th>\n",
       "      <td>\\nIn front of the adventurers was a tall figur...</td>\n",
       "    </tr>\n",
       "    <tr>\n",
       "      <th>6</th>\n",
       "      <td>He did not speak.</td>\n",
       "    </tr>\n",
       "    <tr>\n",
       "      <th>7</th>\n",
       "      <td>He had pale straw-colored skin, with white spi...</td>\n",
       "    </tr>\n",
       "    <tr>\n",
       "      <th>8</th>\n",
       "      <td>His hands seemed other worldly, with some kind...</td>\n",
       "    </tr>\n",
       "    <tr>\n",
       "      <th>9</th>\n",
       "      <td>His two scimitars left a trail of shadows as h...</td>\n",
       "    </tr>\n",
       "    <tr>\n",
       "      <th>10</th>\n",
       "      <td>He never uttered a word.</td>\n",
       "    </tr>\n",
       "    <tr>\n",
       "      <th>11</th>\n",
       "      <td>He just smiled as he suddenly swung his scimit...</td>\n",
       "    </tr>\n",
       "    <tr>\n",
       "      <th>12</th>\n",
       "      <td>\\n\\n</td>\n",
       "    </tr>\n",
       "  </tbody>\n",
       "</table>\n",
       "</div>"
      ],
      "text/plain": [
       "                                            Sentences\n",
       "0   Lightning lit up the purple sky of the mysteri...\n",
       "1   The sky was a dark purple with grey clouds, bo...\n",
       "2   The land was parched and cracking, without any...\n",
       "3    They could barely see a single tree around them.\n",
       "4   In the distance, the adventurers can see a pal...\n",
       "5   \\nIn front of the adventurers was a tall figur...\n",
       "6                                   He did not speak.\n",
       "7   He had pale straw-colored skin, with white spi...\n",
       "8   His hands seemed other worldly, with some kind...\n",
       "9   His two scimitars left a trail of shadows as h...\n",
       "10                           He never uttered a word.\n",
       "11  He just smiled as he suddenly swung his scimit...\n",
       "12                                               \\n\\n"
      ]
     },
     "execution_count": 12,
     "metadata": {},
     "output_type": "execute_result"
    }
   ],
   "source": [
    "df"
   ]
  },
  {
   "cell_type": "markdown",
   "id": "2895c8e4",
   "metadata": {},
   "source": [
    "### Removing Unwanted Spaces "
   ]
  },
  {
   "cell_type": "code",
   "execution_count": 13,
   "id": "8acba8ab",
   "metadata": {},
   "outputs": [],
   "source": [
    "'''This function removes all the unwanted spaces in the data\n",
    "    For example, it changes I 'm to I'm \n",
    "                            ca n't to can't... '''\n",
    "def remove_spaces(text):\n",
    "    text = re.sub(r\" '(\\w)\",r\"'\\1\",text)\n",
    "    text = re.sub(r\" \\,\",\",\",text)\n",
    "    text = re.sub(r\" \\.+\",\".\",text)\n",
    "    text = re.sub(r\" \\!+\",\"!\",text)\n",
    "    text = re.sub(r\" \\?+\",\"?\",text)\n",
    "    text = re.sub(\" n't\",\"n't\",text)\n",
    "    text = re.sub(\"[\\(\\)\\;\\_\\^\\`\\/]\",\"\",text)\n",
    "    \n",
    "    return text"
   ]
  },
  {
   "cell_type": "markdown",
   "id": "448c8211",
   "metadata": {},
   "source": [
    "### Expanding the words"
   ]
  },
  {
   "cell_type": "code",
   "execution_count": 14,
   "id": "c023eb1d",
   "metadata": {},
   "outputs": [],
   "source": [
    "#This function expands all the shortened words, for example, changing can't to Can not\n",
    "def decontract(text):\n",
    "    text = re.sub(r\"won\\'t\", \"will not\", text)\n",
    "    text = re.sub(r\"can\\'t\", \"can not\", text)\n",
    "    text = re.sub(r\"n\\'t\", \" not\", text)\n",
    "    text = re.sub(r\"\\'re\", \" are\", text)\n",
    "    text = re.sub(r\"\\'s\", \" is\", text)\n",
    "    text = re.sub(r\"\\'d\", \" would\", text)\n",
    "    text = re.sub(r\"\\'ll\", \" will\", text)\n",
    "    text = re.sub(r\"\\'t\", \" not\", text)\n",
    "    text = re.sub(r\"\\'ve\", \" have\", text)\n",
    "    text = re.sub(r\"\\'m\", \" am\", text)\n",
    "    return text"
   ]
  },
  {
   "cell_type": "markdown",
   "id": "b71def7e",
   "metadata": {},
   "source": [
    "### Other Pre-Processing Steps"
   ]
  },
  {
   "cell_type": "code",
   "execution_count": 15,
   "id": "4508032c",
   "metadata": {},
   "outputs": [],
   "source": [
    "def preprocess(text):\n",
    "    text = re.sub(\"\\n\",\"\",text) # REMOVING \"\\n\"\n",
    "    text = remove_spaces(text)   # REMOVING UNWANTED SPACES\n",
    "    text = re.sub(r\"\\.+\",\".\",text) \n",
    "    text = re.sub(r\"\\!+\",\"!\",text)\n",
    "    text = decontract(text)    # DECONTRACTION\n",
    "    text = re.sub(\"[^A-Za-z0-9 ]+\",\"\",text) ## REMOVING UNWANTED CHARACTERS\n",
    "    text = text.lower() ## CONVERTING TO LOWER CASE\n",
    "    return text ## RETURNING THE PROCESSED TEXT"
   ]
  },
  {
   "cell_type": "markdown",
   "id": "8639f895",
   "metadata": {},
   "source": [
    "### Applying Functions to Data Frame "
   ]
  },
  {
   "cell_type": "code",
   "execution_count": 16,
   "id": "24f6c5a3",
   "metadata": {},
   "outputs": [],
   "source": [
    "for i, row in df.iterrows():\n",
    "    df.at[i, 'Sentences'] = preprocess(row['Sentences'])"
   ]
  },
  {
   "cell_type": "code",
   "execution_count": null,
   "id": "7a313ae8",
   "metadata": {},
   "outputs": [],
   "source": []
  }
 ],
 "metadata": {
  "kernelspec": {
   "display_name": "Python 3 (ipykernel)",
   "language": "python",
   "name": "python3"
  },
  "language_info": {
   "codemirror_mode": {
    "name": "ipython",
    "version": 3
   },
   "file_extension": ".py",
   "mimetype": "text/x-python",
   "name": "python",
   "nbconvert_exporter": "python",
   "pygments_lexer": "ipython3",
   "version": "3.9.7"
  }
 },
 "nbformat": 4,
 "nbformat_minor": 5
}
