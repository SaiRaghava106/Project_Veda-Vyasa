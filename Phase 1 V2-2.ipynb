{
 "cells": [
  {
   "cell_type": "code",
   "execution_count": 1,
   "id": "8b1a0fba",
   "metadata": {},
   "outputs": [],
   "source": [
    "#Importing all important library files\n",
    "import spacy\n",
    "import pandas as pd\n",
    "import csv\n",
    "import re"
   ]
  },
  {
   "cell_type": "code",
   "execution_count": 38,
   "id": "a208771a",
   "metadata": {},
   "outputs": [],
   "source": [
    "def SentenceSegmentation(path,Path_to_CSV):\n",
    "    nlp = spacy.load(\"en_core_web_sm\") #Load English Language Model\n",
    "    sentence=[] #Initialise arrays for sentences\n",
    "    reqFormatList=[]\n",
    "    with open(path,'r') as f: #Reading lines in the text file and storing them in lines\n",
    "        lines = f.read()\n",
    "    doc=nlp(lines) #Applying the Language model on the lines read from the text file\n",
    "    for sent in doc.sents: #Performing Sentence Segmentation and storing the files in the array sentence\n",
    "        sentence.append(sent)\n",
    "    for i in sentence: #Storing each sentence as an array value in reqFormatList\n",
    "        reqFormatList.append([i])\n",
    "    header=['Sentences'] #Storing each sentence in a cell in a csv file\n",
    "    with open(Path_to_CSV,'w',newline='') as f: \n",
    "        writer=csv.writer(f,delimiter=',')\n",
    "        writer.writerow(header)\n",
    "        for s in reqFormatList:\n",
    "            writer.writerow(s)\n",
    "    DataPreProcessing(Path_to_CSV)"
   ]
  },
  {
   "cell_type": "code",
   "execution_count": 48,
   "id": "d9fbb22e",
   "metadata": {},
   "outputs": [],
   "source": [
    "def DataPreProcessing(Path_to_CSV):\n",
    "    df= pd.read_csv(Path_to_CSV)\n",
    "    '''This function removes all the unwanted spaces in the data\n",
    "    For example, it changes I 'm to I'm \n",
    "                            ca n't to can't... '''\n",
    "    def remove_spaces(text):\n",
    "        text = re.sub(r\" '(\\w)\",r\"'\\1\",text)\n",
    "        text = re.sub(r\" \\,\",\",\",text)\n",
    "        text = re.sub(r\" \\.+\",\".\",text)\n",
    "        text = re.sub(r\" \\!+\",\"!\",text)\n",
    "        text = re.sub(r\" \\?+\",\"?\",text)\n",
    "        text = re.sub(\" n't\",\"n't\",text)\n",
    "        text = re.sub(\"[\\(\\)\\;\\_\\^\\`\\/]\",\"\",text)\n",
    "        return text\n",
    "    def decontract(text): #This function expands all the shortened words, for example, changing can't to Can not\n",
    "        text = re.sub(r\"won\\'t\", \"will not\", text)\n",
    "        text = re.sub(r\"can\\'t\", \"can not\", text)\n",
    "        text = re.sub(r\"n\\'t\", \" not\", text)\n",
    "        text = re.sub(r\"\\'re\", \" are\", text)\n",
    "        text = re.sub(r\"\\'s\", \" is\", text)\n",
    "        text = re.sub(r\"\\'d\", \" would\", text)\n",
    "        text = re.sub(r\"\\'ll\", \" will\", text)\n",
    "        text = re.sub(r\"\\'t\", \" not\", text)\n",
    "        text = re.sub(r\"\\'ve\", \" have\", text)\n",
    "        text = re.sub(r\"\\'m\", \" am\", text)\n",
    "        return text\n",
    "    def preprocess(text):\n",
    "        text = re.sub(\"\\n\",\"\",text) # REMOVING \"\\n\"\n",
    "        text = remove_spaces(text)   # REMOVING UNWANTED SPACES\n",
    "        text = re.sub(r\"\\.+\",\".\",text) \n",
    "        text = re.sub(r\"\\!+\",\"!\",text)\n",
    "        text = decontract(text)    # DECONTRACTION\n",
    "        text = re.sub(\"[^A-Za-z0-9 ]+\",\"\",text) ## REMOVING UNWANTED CHARACTERS\n",
    "        text = text.lower() ## CONVERTING TO LOWER CASE\n",
    "        return text ## RETURNING THE PROCESSED TEXT\n",
    "    for i, row in df.iterrows():\n",
    "        df.at[i, 'Sentences'] = preprocess(row['Sentences'])"
   ]
  },
  {
   "cell_type": "code",
   "execution_count": 49,
   "id": "a51bc887",
   "metadata": {},
   "outputs": [],
   "source": [
    "def main(): \n",
    "    path=input('Enter the path of your text file') or 'text.txt' #Input path of the text file\n",
    "    Path_to_CSV=input('Enter the path of your CSV file') or 'Data.csv' #Add path to CSV file\n",
    "    SentenceSegmentation(path,Path_to_CSV)"
   ]
  },
  {
   "cell_type": "code",
   "execution_count": 53,
   "id": "fa30c9ed",
   "metadata": {},
   "outputs": [
    {
     "name": "stdout",
     "output_type": "stream",
     "text": [
      "Enter the path of your text file\n",
      "Enter the path of your CSV file\n"
     ]
    }
   ],
   "source": [
    "if __name__ == '__main__': \n",
    "    main()"
   ]
  },
  {
   "cell_type": "code",
   "execution_count": null,
   "id": "03398338",
   "metadata": {},
   "outputs": [],
   "source": []
  }
 ],
 "metadata": {
  "kernelspec": {
   "display_name": "Python 3 (ipykernel)",
   "language": "python",
   "name": "python3"
  },
  "language_info": {
   "codemirror_mode": {
    "name": "ipython",
    "version": 3
   },
   "file_extension": ".py",
   "mimetype": "text/x-python",
   "name": "python",
   "nbconvert_exporter": "python",
   "pygments_lexer": "ipython3",
   "version": "3.9.7"
  }
 },
 "nbformat": 4,
 "nbformat_minor": 5
}
